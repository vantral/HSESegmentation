{
  "cells": [
    {
      "cell_type": "markdown",
      "source": [
        "## Трансдьюсер"
      ],
      "metadata": {
        "id": "WCTuHmostGYF"
      }
    },
    {
      "cell_type": "code",
      "execution_count": null,
      "metadata": {
        "id": "gpNbqE6GXxN1"
      },
      "outputs": [],
      "source": [
        "!curl -sS https://apertium.projectjj.com/apt/install-release.sh | sudo bash\n",
        "!apt install apertium-all-dev lexd"
      ]
    },
    {
      "cell_type": "code",
      "execution_count": 2,
      "metadata": {
        "colab": {
          "base_uri": "https://localhost:8080/"
        },
        "id": "tI-N9Vw9dGZ8",
        "outputId": "a9f2e527-e354-42b3-99de-203c476a7bf4"
      },
      "outputs": [
        {
          "output_type": "stream",
          "name": "stdout",
          "text": [
            "main@standard 61455 274938\n"
          ]
        }
      ],
      "source": [
        "!lexd eve.lexd > eve.generator.att\n",
        "!lt-comp rl eve.generator.att eve.analyser.bin\n",
        "! lexd eve.lexd | hfst-txt2fst -o eve.generator.hfst\n",
        "! hfst-invert eve.generator.hfst -o eve.analyzer.hfst"
      ]
    },
    {
      "cell_type": "code",
      "execution_count": 3,
      "metadata": {
        "colab": {
          "base_uri": "https://localhost:8080/"
        },
        "id": "e7klazGLeeV3",
        "outputId": "7efd788e-135c-4188-e2f6-9da8049be87a"
      },
      "outputs": [
        {
          "output_type": "stream",
          "name": "stdout",
          "text": [
            "Reading input from eve.twol.\n",
            "Writing output to eve.twol.hfst.\n",
            "Reading alphabet.\n",
            "Reading sets.\n",
            "Reading rules and compiling their contexts and centers.\n",
            "Compiling rules.\n",
            "Storing rules.\n"
          ]
        }
      ],
      "source": [
        "! hfst-twolc eve.twol -o eve.twol.hfst\n",
        "! lexd eve.lexd | hfst-txt2fst -o eve.lexd.hfst\n",
        "#! hfst-fst2strings eve.lexd.hfst\n",
        "! hfst-compose-intersect eve.lexd.hfst eve.twol.hfst -o eve.generator.hfst\n",
        "#! hfst-fst2strings eve.generator.hfst\n",
        "! hfst-invert eve.generator.hfst -o eve.analyzer.hfst"
      ]
    },
    {
      "cell_type": "markdown",
      "source": [
        "Пример использования анализатора"
      ],
      "metadata": {
        "id": "LgJH0t8nncPe"
      }
    },
    {
      "cell_type": "code",
      "source": [
        "word = \"d'utkin\"\n",
        "def get_analysis(word):\n",
        "    good_word = word.replace(\"'\", \"\\\\'\")\n",
        "    answer = ! echo {good_word} | hfst-lookup eve.analyzer.hfst\n",
        "    if answer[2].split()[2].endswith('+?'):\n",
        "        analysis = \"IDK\"\n",
        "    else:\n",
        "        analysis = answer[2].split()[2]\n",
        "        POS = ['<n>', '<v>', '<adj>', '<adv>', '<phd>', '<ptc>',\n",
        "               '<cvb>', '<num>', '<pron>', '<refl>', '<det>',\n",
        "               '<func>', '<qpron>', '<intj>', '<refl>']\n",
        "        for onepos in POS:\n",
        "            analysis = analysis.replace(onepos, '')\n",
        "        analysis = analysis.replace('><', '-')\n",
        "        analysis = analysis.replace('>', '').replace('<', '')\n",
        "    return analysis.upper()\n",
        "\n",
        "get_analysis(word)"
      ],
      "metadata": {
        "colab": {
          "base_uri": "https://localhost:8080/",
          "height": 35
        },
        "id": "Ub3DUXiE1MC9",
        "outputId": "3d701037-19cc-42d5-b887-35172dd020df"
      },
      "execution_count": 46,
      "outputs": [
        {
          "output_type": "execute_result",
          "data": {
            "text/plain": [
              "\"D'U-DIR-POSS-P3-SG\""
            ],
            "application/vnd.google.colaboratory.intrinsic+json": {
              "type": "string"
            }
          },
          "metadata": {},
          "execution_count": 46
        }
      ]
    },
    {
      "cell_type": "code",
      "source": [
        "!hfst-invert eve.lexd.hfst -o eve.inv_seg.hfst\n",
        "!hfst-compose-intersect -1 eve.lexd.hfst -2 eve.twol.hfst | hfst-minimise -o eve-seg.hfst\n",
        "!hfst-compose -1 eve.inv_seg.hfst -2 eve-seg.hfst -o eve.seg.hfst\n",
        "!hfst-minimise eve.seg.hfst | hfst-invert | hfst-fst2fst -O -o eve.segmenter.hfst"
      ],
      "metadata": {
        "id": "dydBEX_FxT1E"
      },
      "execution_count": 5,
      "outputs": []
    },
    {
      "cell_type": "markdown",
      "source": [
        "Пример использования сегментатора"
      ],
      "metadata": {
        "id": "fqtKri--njfB"
      }
    },
    {
      "cell_type": "code",
      "source": [
        "word = \"d'utkin\"\n",
        "def get_parts(word):\n",
        "    good_word = word.replace(\"'\", \"\\\\'\")\n",
        "    answer = ! echo {good_word} | hfst-lookup eve.segmenter.hfst\n",
        "    if answer[0].split()[2].endswith('+?'):\n",
        "        parts = answer[0].split()[2].strip('+?')\n",
        "    else:\n",
        "        parts = answer[0].split()[2].replace('>', '-')\n",
        "    return parts\n",
        "get_parts(word)"
      ],
      "metadata": {
        "colab": {
          "base_uri": "https://localhost:8080/",
          "height": 35
        },
        "id": "rFgrSu32xuEf",
        "outputId": "1caeccb9-635d-436f-8591-8e7bef3e3202"
      },
      "execution_count": 35,
      "outputs": [
        {
          "output_type": "execute_result",
          "data": {
            "text/plain": [
              "\"d'u-taki-{n3sg}\""
            ],
            "application/vnd.google.colaboratory.intrinsic+json": {
              "type": "string"
            }
          },
          "metadata": {},
          "execution_count": 35
        }
      ]
    },
    {
      "cell_type": "markdown",
      "source": [
        "Evaluation"
      ],
      "metadata": {
        "id": "GQ08Az1UfgR0"
      }
    },
    {
      "cell_type": "code",
      "source": [
        "import pandas as pd\n",
        "df = pd.read_csv('frequency_list.csv', delimiter='\\t')"
      ],
      "metadata": {
        "id": "GI-KRupyfQfy"
      },
      "execution_count": 10,
      "outputs": []
    },
    {
      "cell_type": "code",
      "source": [
        "df['auto_glosses'] = 0\n",
        "df['auto_parts'] = 0\n",
        "for index, row in df.iterrows():\n",
        "    word = str(row['word']).replace(')', '').replace('(', '')\n",
        "    df['auto_glosses'].loc[index] = get_analysis(word)\n",
        "    df['auto_parts'].loc[index] = get_parts(word)"
      ],
      "metadata": {
        "colab": {
          "base_uri": "https://localhost:8080/"
        },
        "id": "vw-82M_Qfqww",
        "outputId": "e10c31a1-9e1f-41d3-8dea-cc29553730e2"
      },
      "execution_count": 51,
      "outputs": [
        {
          "output_type": "stream",
          "name": "stderr",
          "text": [
            "/usr/local/lib/python3.7/dist-packages/pandas/core/indexing.py:1732: SettingWithCopyWarning: \n",
            "A value is trying to be set on a copy of a slice from a DataFrame\n",
            "\n",
            "See the caveats in the documentation: https://pandas.pydata.org/pandas-docs/stable/user_guide/indexing.html#returning-a-view-versus-a-copy\n",
            "  self._setitem_single_block(indexer, value, name)\n"
          ]
        }
      ]
    },
    {
      "cell_type": "code",
      "source": [
        "df.to_csv('analysis.csv')"
      ],
      "metadata": {
        "id": "OJCj-ikssaZ5"
      },
      "execution_count": 52,
      "outputs": []
    },
    {
      "cell_type": "markdown",
      "source": [
        "Будем дорабатывать\n",
        "\n",
        "Основные ошибки:\n",
        "- неправильный выбор из возможных (нечастотный)\n",
        "- морфонология порождает не все нужные формы\n",
        "- числа с суффиксами\n",
        "- не разбираются слова с неизвестным корнем\n",
        " - много заимствований, которых нет в словаре\n",
        "\n",
        "- сложность с разрешением переходов с гармонией\n",
        "\n",
        "Осторожно, очень долго работает"
      ],
      "metadata": {
        "id": "OXyeEmDUuxBJ"
      }
    }
  ],
  "metadata": {
    "colab": {
      "collapsed_sections": [],
      "name": "Newspaper eve lexd twol.ipynb",
      "provenance": []
    },
    "kernelspec": {
      "display_name": "Python 3",
      "name": "python3"
    },
    "language_info": {
      "name": "python"
    }
  },
  "nbformat": 4,
  "nbformat_minor": 0
}