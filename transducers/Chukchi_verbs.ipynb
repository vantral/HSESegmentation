{
  "cells": [
    {
      "cell_type": "code",
      "execution_count": null,
      "metadata": {
        "id": "gpNbqE6GXxN1"
      },
      "outputs": [],
      "source": [
        "!curl -sS https://apertium.projectjj.com/apt/install-release.sh | sudo bash\n",
        "!apt install apertium-all-dev lexd"
      ]
    },
    {
      "cell_type": "code",
      "execution_count": null,
      "metadata": {
        "colab": {
          "base_uri": "https://localhost:8080/"
        },
        "id": "dOz4PG0j43LI",
        "outputId": "2ee0a68f-1d43-4d97-8ebf-e1512e8322c1"
      },
      "outputs": [
        {
          "output_type": "stream",
          "name": "stdout",
          "text": [
            "Overwriting ckt.lexd\n"
          ]
        }
      ],
      "source": [
        "%%writefile ckt.lexd\n",
        "\n",
        "PATTERN VerbTencePNumSuf\n",
        "Th? VerbTencePNumSufCumul Pl?\n",
        "VerbTencePNumSuf1 Th? VerbTencePNumSuf2 Pl?\n",
        "\n",
        "PATTERNS\n",
        "VerbTencePNumPr Inv? VerbBase VerbTencePNumSuf  # Небудущее неимперфективное\n",
        "\n",
        "LEXICON VerbBase\n",
        "<видеть>:ɬʔu\n",
        "\n",
        "LEXICON Inv\n",
        "<INV>:ine\n",
        "\n",
        "LEXICON Pl\n",
        "<PL>:t\n",
        "\n",
        "LEXICON Th\n",
        "<TH>:ɣʔ\n",
        "<TH>:ɣʔe\n",
        "<TH>:ʔe\n",
        "\n",
        "LEXICON VerbTencePNumPr\n",
        "<1SG.S/A>:t\n",
        "<1PL.S/A>:mət\n",
        "<2/3.S/A>:\n",
        "<LOW.A>:ne\n",
        "\n",
        "LEXICON VerbTencePNumSufCumul\n",
        "<2/3SG.S>:i\n",
        "<2PL.S/O>:tək\n",
        "<1SG.O>:ɣəm\n",
        "<1PL.S/O>:mək\n",
        "<2SG.O>:ɣət\n",
        "<2PL.S/O>:tək\n",
        "<3SG.O>:n\n",
        "<3SG.O>:ne\n",
        "<2PL.A.3.O>:tkə\n",
        "\n",
        "LEXICON VerbTencePNumSuf1\n",
        "<1PL.O>:tku\n",
        "<3SG.A.3.O>:ni\n",
        "\n",
        "LEXICON VerbTencePNumSuf2\n",
        "<2/3SG.S>:i\n",
        "<2PL.S/O>:tək\n",
        "<3SG.O>:n\n",
        "<3SG.O>:ne"
      ]
    },
    {
      "cell_type": "code",
      "source": [
        "!lexd ckt.lexd > ckt.generator.att\n",
        "!lt-comp rl ckt.generator.att ckt.analyser.bin\n",
        "! lexd ckt.lexd | hfst-txt2fst -o ckt.generator.hfst\n",
        "! hfst-invert ckt.generator.hfst -o ckt.analyzer.hfst"
      ],
      "metadata": {
        "colab": {
          "base_uri": "https://localhost:8080/"
        },
        "id": "oHuz5BDv6rp0",
        "outputId": "2921f3d7-e1b7-41cc-99d7-a11a7cf0d643"
      },
      "execution_count": null,
      "outputs": [
        {
          "output_type": "stream",
          "name": "stdout",
          "text": [
            "main@standard 34 70\n"
          ]
        }
      ]
    },
    {
      "cell_type": "code",
      "source": [
        "! hfst-fst2strings ckt.analyzer.hfst"
      ],
      "metadata": {
        "id": "-eluFCc17jEQ"
      },
      "execution_count": null,
      "outputs": []
    },
    {
      "cell_type": "code",
      "source": [
        "! echo \"neɬʔuʔen\" | hfst-lookup ckt.analyzer.hfst\n",
        "! echo \"mətɬʔuʔen\" | hfst-lookup ckt.analyzer.hfst\n",
        "! echo \"ɬʔunin\" | hfst-lookup ckt.analyzer.hfst"
      ],
      "metadata": {
        "colab": {
          "base_uri": "https://localhost:8080/"
        },
        "id": "pf2wGMOt680R",
        "outputId": "71ede003-c988-4322-b880-d8c8d0c0eace"
      },
      "execution_count": null,
      "outputs": [
        {
          "output_type": "stream",
          "name": "stdout",
          "text": [
            "hfst-lookup: warning: It is not possible to perform fast lookups with OpenFST, std arc, tropical semiring format automata.\n",
            "Using HFST basic transducer format and performing slow lookups\n",
            "> neɬʔuʔen\t<LOW.A><видеть><TH><3SG.O>\t0.000000\n",
            "\n",
            "> hfst-lookup: warning: It is not possible to perform fast lookups with OpenFST, std arc, tropical semiring format automata.\n",
            "Using HFST basic transducer format and performing slow lookups\n",
            "> mətɬʔuʔen\t<1PL.S/A><видеть><TH><3SG.O>\t0.000000\n",
            "\n",
            "> hfst-lookup: warning: It is not possible to perform fast lookups with OpenFST, std arc, tropical semiring format automata.\n",
            "Using HFST basic transducer format and performing slow lookups\n",
            "> ɬʔunin\t<2/3.S/A><видеть><3SG.A.3.O><3SG.O>\t0.000000\n",
            "\n",
            "> "
          ]
        }
      ]
    },
    {
      "cell_type": "code",
      "source": [
        "a = r\"ɬʔunin\"\n",
        "b = ! echo {a} | hfst-lookup ckt.analyzer.hfst\n",
        "b[2].split()[2]"
      ],
      "metadata": {
        "colab": {
          "base_uri": "https://localhost:8080/",
          "height": 35
        },
        "id": "zmQf962WyXVt",
        "outputId": "1703bb88-4875-46c6-9e94-7c6b5339482b"
      },
      "execution_count": null,
      "outputs": [
        {
          "output_type": "execute_result",
          "data": {
            "text/plain": [
              "'<2/3.S/A><видеть><3SG.A.3.O><3SG.O>'"
            ],
            "application/vnd.google.colaboratory.intrinsic+json": {
              "type": "string"
            }
          },
          "metadata": {},
          "execution_count": 27
        }
      ]
    }
  ],
  "metadata": {
    "colab": {
      "provenance": []
    },
    "kernelspec": {
      "display_name": "Python 3",
      "name": "python3"
    },
    "language_info": {
      "name": "python"
    }
  },
  "nbformat": 4,
  "nbformat_minor": 0
}